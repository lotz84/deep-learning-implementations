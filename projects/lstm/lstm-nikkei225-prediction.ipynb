{
 "cells": [
  {
   "cell_type": "code",
   "execution_count": 1,
   "metadata": {
    "collapsed": true
   },
   "outputs": [],
   "source": [
    "import datetime\n",
    "import random\n",
    "import numpy as np\n",
    "import pandas_datareader.data as web\n",
    "import tensorflow as tf"
   ]
  },
  {
   "cell_type": "markdown",
   "metadata": {},
   "source": [
    "定数一覧\n",
    "\n",
    "|変数名|定数の説明|\n",
    "|:----|:----|\n",
    "|training_days|推定に用いるデータの日数|\n",
    "|learning_rate|学習率|\n",
    "|num_of_input_nodes|入力層のノード数|\n",
    "|num_of_hidden_nodes|隠れ層のノード数|\n",
    "|num_of_output_nodes|出力層のノード数|\n",
    "|forget_bias|忘却ゲートで使われるバイアス|\n",
    "|size_of_mini_batch|ミニバッチのサイズ|\n",
    "|num_of_training_epochs|学習のエポック数|"
   ]
  },
  {
   "cell_type": "code",
   "execution_count": 15,
   "metadata": {
    "collapsed": false
   },
   "outputs": [],
   "source": [
    "training_days = 30\n",
    "learning_rate = 0.01\n",
    "num_of_input_nodes = 1\n",
    "num_of_hidden_nodes = 100\n",
    "num_of_output_nodes = 1\n",
    "forget_bias = 0.8\n",
    "size_of_mini_batch = 50\n",
    "num_of_training_epochs = 50000"
   ]
  },
  {
   "cell_type": "code",
   "execution_count": 3,
   "metadata": {
    "collapsed": true
   },
   "outputs": [],
   "source": [
    "random.seed(0)\n",
    "np.random.seed(0)\n",
    "tf.set_random_seed(0)"
   ]
  },
  {
   "cell_type": "markdown",
   "metadata": {},
   "source": [
    "pandas を使って Yahoo! Finance から日経225の日足データを15年分取得し学習用データとする"
   ]
  },
  {
   "cell_type": "code",
   "execution_count": 4,
   "metadata": {
    "collapsed": false
   },
   "outputs": [],
   "source": [
    "def close_prices_to_data(returns):\n",
    "    X = []\n",
    "    t = []\n",
    "    for i in range(0, len(returns) - training_days - 1):\n",
    "        X.append(returns[i:i+training_days])\n",
    "        t.append(returns[i+training_days])\n",
    "    X = np.array(X)\n",
    "    t = np.array(t)\n",
    "    return X, t\n",
    "\n",
    "def create_test_data(training_days):\n",
    "    start = datetime.datetime(2000, 1, 1)\n",
    "    end = datetime.datetime(2016, 1, 1)\n",
    "    n225 = web.DataReader(\"^N225\", 'yahoo', start, end)\n",
    "    n225_close = n225['Adj Close'].values\n",
    "    n225_returns = list(map(lambda b, a: 250 * (a - b) / b, n225_close, n225_close[1:]))\n",
    "    return close_prices_to_data(n225_returns)\n",
    "\n",
    "def create_training_data(training_days):\n",
    "    start = datetime.datetime(2016, 1, 1)\n",
    "    end = datetime.datetime(2017, 1, 1)\n",
    "    n225 = web.DataReader(\"^N225\", 'yahoo', start, end)\n",
    "    n225_close = n225['Adj Close'].values\n",
    "    n225_returns = list(map(lambda b, a: 250 * (a - b) / b, n225_close, n225_close[1:]))\n",
    "    return close_prices_to_data(n225_returns)"
   ]
  },
  {
   "cell_type": "markdown",
   "metadata": {},
   "source": [
    "以下のコードは記事 [TensorFlowのRNNを基本的なモデルで試す](http://qiita.com/yukiB/items/f6314d2861fc8d9b739f) を参考"
   ]
  },
  {
   "cell_type": "code",
   "execution_count": 5,
   "metadata": {
    "collapsed": true
   },
   "outputs": [],
   "source": [
    "def inference(input_ph, istate_ph):\n",
    "    with tf.name_scope(\"inference\") as scope:\n",
    "        weight1_var = tf.Variable(tf.truncated_normal(\n",
    "            [num_of_input_nodes, num_of_hidden_nodes], stddev=0.1), name=\"weight1\")\n",
    "        weight2_var = tf.Variable(tf.truncated_normal(\n",
    "            [num_of_hidden_nodes, num_of_output_nodes], stddev=0.1), name=\"weight2\")\n",
    "        bias1_var = tf.Variable(tf.truncated_normal([num_of_hidden_nodes], stddev=0.1), name=\"bias1\")\n",
    "        bias2_var = tf.Variable(tf.truncated_normal([num_of_output_nodes], stddev=0.1), name=\"bias2\")\n",
    "\n",
    "        in1 = tf.transpose(input_ph, [1, 0, 2])\n",
    "        in2 = tf.reshape(in1, [-1, num_of_input_nodes])\n",
    "        in3 = tf.matmul(in2, weight1_var) + bias1_var\n",
    "        in4 = tf.split(0, training_days, in3)\n",
    "\n",
    "        cell = tf.nn.rnn_cell.BasicLSTMCell(\n",
    "            num_of_hidden_nodes, forget_bias=forget_bias, state_is_tuple=False)\n",
    "        rnn_output, states_op = tf.nn.rnn(cell, in4, initial_state=istate_ph)\n",
    "        output_op = tf.matmul(rnn_output[-1], weight2_var) + bias2_var\n",
    "\n",
    "        # Add summary ops to collect data\n",
    "        w1_hist = tf.summary.histogram(\"weights1\", weight1_var)\n",
    "        w2_hist = tf.summary.histogram(\"weights2\", weight2_var)\n",
    "        b1_hist = tf.summary.histogram(\"biases1\", bias1_var)\n",
    "        b2_hist = tf.summary.histogram(\"biases2\", bias2_var)\n",
    "        output_hist = tf.summary.histogram(\"output\",  output_op)\n",
    "        results = [weight1_var, weight2_var, bias1_var,  bias2_var]\n",
    "        return output_op, states_op, results"
   ]
  },
  {
   "cell_type": "code",
   "execution_count": 6,
   "metadata": {
    "collapsed": true
   },
   "outputs": [],
   "source": [
    "def loss(output_op, supervisor_ph):\n",
    "    with tf.name_scope(\"loss\") as scope:\n",
    "        square_error = tf.reduce_mean(tf.square(output_op - supervisor_ph))\n",
    "        loss_op = square_error\n",
    "        tf.summary.scalar(\"loss\", loss_op)\n",
    "        return loss_op"
   ]
  },
  {
   "cell_type": "code",
   "execution_count": 7,
   "metadata": {
    "collapsed": true
   },
   "outputs": [],
   "source": [
    "def training(loss_op):\n",
    "    with tf.name_scope(\"training\") as scope:\n",
    "        training_op = optimizer.minimize(loss_op)\n",
    "        return training_op"
   ]
  },
  {
   "cell_type": "code",
   "execution_count": 8,
   "metadata": {
    "collapsed": true
   },
   "outputs": [],
   "source": [
    "def get_batch(batch_size, X, t):\n",
    "    rnum = [random.randint(0, len(X) - 1) for x in range(batch_size)]\n",
    "    xs = np.array([[[y] for y in list(X[r])] for r in rnum])\n",
    "    ts = np.array([[t[r]] for r in rnum])\n",
    "    return xs, ts"
   ]
  },
  {
   "cell_type": "code",
   "execution_count": 13,
   "metadata": {
    "collapsed": true
   },
   "outputs": [],
   "source": [
    "def print_accuracy(output_op, X, t):\n",
    "    Xs = np.array([[[y] for y in list(X[r])] for r in range(0, len(X))])\n",
    "    ts = np.array([[t[r]] for r in range(0, len(t))])\n",
    "    pred_dict = {\n",
    "        input_ph:  Xs,\n",
    "        supervisor_ph: ts,\n",
    "        istate_ph:    np.zeros((len(X), num_of_hidden_nodes * 2)),\n",
    "    }\n",
    "    output = sess.run([output_op], feed_dict=pred_dict)\n",
    "\n",
    "    opt = (output * ts)[0]\n",
    "    total = sum([1 if x[0] > 0 else 0 for x in opt])\n",
    "    print(\"accuracy %f\" % (total / float(len(ts))))\n",
    "    return output"
   ]
  },
  {
   "cell_type": "code",
   "execution_count": 16,
   "metadata": {
    "collapsed": false,
    "scrolled": true
   },
   "outputs": [
    {
     "name": "stdout",
     "output_type": "stream",
     "text": [
      "WARNING:tensorflow:<tensorflow.python.ops.rnn_cell.BasicLSTMCell object at 0x113d04898>: Using a concatenated state is slower and will soon be deprecated.  Use state_is_tuple=True.\n",
      "train#0, train loss: 1.094412e+01\n",
      "accuracy 0.549296\n",
      "train#1000, train loss: 1.953825e+01\n",
      "train#2000, train loss: 1.172229e+01\n",
      "train#3000, train loss: 9.834884e+00\n",
      "train#4000, train loss: 8.167578e+00\n",
      "train#5000, train loss: 1.065910e+01\n",
      "accuracy 0.507042\n",
      "train#6000, train loss: 9.477546e+00\n",
      "train#7000, train loss: 2.047491e+01\n",
      "train#8000, train loss: 7.286870e+00\n",
      "train#9000, train loss: 9.135774e+00\n",
      "train#10000, train loss: 5.507623e+00\n",
      "accuracy 0.563380\n",
      "train#11000, train loss: 7.381664e+00\n",
      "train#12000, train loss: 6.440878e+00\n",
      "train#13000, train loss: 3.235647e+00\n",
      "train#14000, train loss: 4.996283e+00\n",
      "train#15000, train loss: 1.154611e+00\n",
      "accuracy 0.507042\n",
      "train#16000, train loss: 1.660272e+00\n",
      "train#17000, train loss: 3.218783e-01\n",
      "train#18000, train loss: 4.666186e-01\n",
      "train#19000, train loss: 2.035732e-01\n",
      "train#20000, train loss: 1.007189e-01\n",
      "accuracy 0.582160\n",
      "train#21000, train loss: 8.747717e-02\n",
      "train#22000, train loss: 7.267650e-01\n",
      "train#23000, train loss: 5.444868e-02\n",
      "train#24000, train loss: 4.784906e-02\n",
      "train#25000, train loss: 1.955036e-02\n",
      "accuracy 0.591549\n",
      "train#26000, train loss: 1.383222e-02\n",
      "train#27000, train loss: 3.206583e-02\n",
      "train#28000, train loss: 9.403354e-03\n",
      "train#29000, train loss: 1.291566e-02\n",
      "train#30000, train loss: 1.416845e-02\n",
      "accuracy 0.582160\n",
      "train#31000, train loss: 4.945410e-03\n",
      "train#32000, train loss: 1.197968e-02\n",
      "train#33000, train loss: 2.428756e-03\n",
      "train#34000, train loss: 1.178450e-03\n",
      "train#35000, train loss: 1.074009e-03\n",
      "accuracy 0.577465\n",
      "train#36000, train loss: 1.466726e-03\n",
      "train#37000, train loss: 4.131825e-03\n",
      "train#38000, train loss: 3.322445e-03\n",
      "train#39000, train loss: 4.599214e-04\n",
      "train#40000, train loss: 1.137579e-03\n",
      "accuracy 0.577465\n",
      "train#41000, train loss: 3.651008e-04\n",
      "train#42000, train loss: 1.086756e-04\n",
      "train#43000, train loss: 2.097927e-03\n",
      "train#44000, train loss: 2.486106e-04\n",
      "train#45000, train loss: 1.394370e-04\n",
      "accuracy 0.577465\n",
      "train#46000, train loss: 9.034811e-05\n",
      "train#47000, train loss: 1.229906e-04\n",
      "train#48000, train loss: 1.596777e-04\n",
      "train#49000, train loss: 5.513332e-05\n",
      "accuracy 0.577465\n"
     ]
    }
   ],
   "source": [
    "X_test, t_test = create_test_data(training_days)\n",
    "X_training, t_training = create_training_data(training_days)\n",
    "\n",
    "optimizer = tf.train.GradientDescentOptimizer(learning_rate=learning_rate)\n",
    "\n",
    "with tf.Graph().as_default():\n",
    "    input_ph = tf.placeholder(tf.float32, [None, training_days, num_of_input_nodes], name=\"input\")\n",
    "    supervisor_ph = tf.placeholder(tf.float32, [None, num_of_output_nodes], name=\"supervisor\")\n",
    "    istate_ph = tf.placeholder(tf.float32, [None, num_of_hidden_nodes * 2], name=\"istate\")\n",
    "    \n",
    "    output_op, states_op, datas_op = inference(input_ph, istate_ph)\n",
    "    loss_op = loss(output_op, supervisor_ph)\n",
    "    training_op = training(loss_op)\n",
    "    \n",
    "    summary_op = tf.summary.merge_all()\n",
    "    init = tf.global_variables_initializer()\n",
    "    \n",
    "    with tf.Session() as sess:\n",
    "        saver = tf.train.Saver()\n",
    "        summary_writer = tf.summary.FileWriter(\"/tmp/tensorflow_log\", graph=sess.graph)\n",
    "        sess.run(init)\n",
    "        \n",
    "        for epoch in range(num_of_training_epochs):\n",
    "            inputs, supervisors = get_batch(size_of_mini_batch, X_test, t_test)\n",
    "            train_dict = {\n",
    "                input_ph:      inputs,\n",
    "                supervisor_ph: supervisors,\n",
    "                istate_ph:     np.zeros((size_of_mini_batch, num_of_hidden_nodes * 2)),\n",
    "            }\n",
    "            sess.run(training_op, feed_dict=train_dict)\n",
    "            \n",
    "            if (epoch) % 1000 == 0:\n",
    "                summary_str, train_loss = sess.run([summary_op, loss_op], feed_dict=train_dict)\n",
    "                print(\"train#%d, train loss: %e\" % (epoch, train_loss))\n",
    "                summary_writer.add_summary(summary_str, epoch)\n",
    "                if (epoch) % 5000 == 0:\n",
    "                    print_accuracy(output_op, X_training, t_training)\n",
    "\n",
    "        print_accuracy(output_op, X_training, t_training)\n",
    "        datas = sess.run(datas_op)\n",
    "        saver.save(sess, \"model.ckpt\")"
   ]
  },
  {
   "cell_type": "markdown",
   "metadata": {},
   "source": [
    "トレーニング時の損失関数\n",
    "![](loss.png)"
   ]
  },
  {
   "cell_type": "code",
   "execution_count": null,
   "metadata": {
    "collapsed": true
   },
   "outputs": [],
   "source": []
  }
 ],
 "metadata": {
  "kernelspec": {
   "display_name": "Python 3",
   "language": "python",
   "name": "python3"
  },
  "language_info": {
   "codemirror_mode": {
    "name": "ipython",
    "version": 3
   },
   "file_extension": ".py",
   "mimetype": "text/x-python",
   "name": "python",
   "nbconvert_exporter": "python",
   "pygments_lexer": "ipython3",
   "version": "3.5.2"
  }
 },
 "nbformat": 4,
 "nbformat_minor": 2
}
