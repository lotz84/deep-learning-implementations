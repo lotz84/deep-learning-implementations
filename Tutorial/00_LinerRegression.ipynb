{
 "cells": [
  {
   "cell_type": "markdown",
   "metadata": {},
   "source": [
    "# Tensorflowで線形回帰\n",
    "\n",
    "$$ y= 0.1 * x + 0.3 $$\n",
    "\n",
    "の線形回帰を試してみる"
   ]
  },
  {
   "cell_type": "code",
   "execution_count": 1,
   "metadata": {
    "collapsed": false
   },
   "outputs": [],
   "source": [
    "import tensorflow as tf\n",
    "import numpy as np"
   ]
  },
  {
   "cell_type": "code",
   "execution_count": 2,
   "metadata": {
    "collapsed": false
   },
   "outputs": [
    {
     "name": "stdout",
     "output_type": "stream",
     "text": [
      "x_data-> [ 0.47838706  0.99479538  0.47989574  0.51416975  0.76361543]\n",
      "y_data-> [ 0.34783873  0.39947957  0.34798959  0.35141698  0.37636155]\n"
     ]
    }
   ],
   "source": [
    "x_data = np.random.rand(100).astype(\"float32\")\n",
    "print(\"x_data->\", x_data[:5])\n",
    "y_data = x_data*0.1 + 0.3\n",
    "print(\"y_data->\",y_data[:5])"
   ]
  },
  {
   "cell_type": "code",
   "execution_count": 3,
   "metadata": {
    "collapsed": false
   },
   "outputs": [
    {
     "name": "stdout",
     "output_type": "stream",
     "text": [
      "W-> Tensor(\"Variable/read:0\", shape=(1,), dtype=float32)\n",
      "b-> Tensor(\"Variable_1/read:0\", shape=(1,), dtype=float32)\n",
      "y-> Tensor(\"add:0\", shape=(100,), dtype=float32)\n"
     ]
    }
   ],
   "source": [
    "W = tf.Variable(tf.random_uniform([1], -1, 1))\n",
    "b = tf.Variable(tf.zeros([1]))\n",
    "print(\"W->\",W)\n",
    "print(\"b->\",b)\n",
    "y = W * x_data + b\n",
    "print(\"y->\",y)"
   ]
  },
  {
   "cell_type": "code",
   "execution_count": 4,
   "metadata": {
    "collapsed": false
   },
   "outputs": [
    {
     "name": "stdout",
     "output_type": "stream",
     "text": [
      "loss-> Tensor(\"Mean:0\", shape=(), dtype=float32)\n",
      "optimizer-> <tensorflow.python.training.gradient_descent.GradientDescentOptimizer object at 0x116145e10>\n",
      "train-> name: \"GradientDescent\"\n",
      "op: \"NoOp\"\n",
      "input: \"^GradientDescent/update_Variable/ApplyGradientDescent\"\n",
      "input: \"^GradientDescent/update_Variable_1/ApplyGradientDescent\"\n",
      "\n"
     ]
    }
   ],
   "source": [
    "loss = tf.reduce_mean(tf.square(y - y_data))\n",
    "print(\"loss->\", loss)\n",
    "optimizer = tf.train.GradientDescentOptimizer(0.5)\n",
    "print(\"optimizer->\", optimizer)\n",
    "train = optimizer.minimize(loss)\n",
    "print(\"train->\", train)"
   ]
  },
  {
   "cell_type": "code",
   "execution_count": 5,
   "metadata": {
    "collapsed": false
   },
   "outputs": [],
   "source": [
    "init = tf.global_variables_initializer()"
   ]
  },
  {
   "cell_type": "code",
   "execution_count": 6,
   "metadata": {
    "collapsed": true
   },
   "outputs": [],
   "source": [
    "sess = tf.Session()\n",
    "sess.run(init)"
   ]
  },
  {
   "cell_type": "code",
   "execution_count": 7,
   "metadata": {
    "collapsed": false
   },
   "outputs": [
    {
     "name": "stdout",
     "output_type": "stream",
     "text": [
      "0 [ 0.64365542] [-0.0108385]\n",
      "20 [ 0.23311538] [ 0.22624499]\n",
      "40 [ 0.13235109] [ 0.28207532]\n",
      "60 [ 0.10786229] [ 0.29564378]\n",
      "80 [ 0.10191078] [ 0.29894131]\n",
      "100 [ 0.10046439] [ 0.2997427]\n",
      "120 [ 0.1001129] [ 0.29993746]\n",
      "140 [ 0.10002746] [ 0.29998481]\n",
      "160 [ 0.10000668] [ 0.29999632]\n",
      "180 [ 0.10000162] [ 0.29999912]\n",
      "200 [ 0.10000041] [ 0.29999977]\n"
     ]
    }
   ],
   "source": [
    "for step in range(201):\n",
    "    sess.run(train)\n",
    "    if step % 20 == 0:\n",
    "        print(step, sess.run(W), sess.run(b))"
   ]
  },
  {
   "cell_type": "code",
   "execution_count": null,
   "metadata": {
    "collapsed": true
   },
   "outputs": [],
   "source": []
  }
 ],
 "metadata": {
  "kernelspec": {
   "display_name": "Python 3",
   "language": "python",
   "name": "python3"
  },
  "language_info": {
   "codemirror_mode": {
    "name": "ipython",
    "version": 3
   },
   "file_extension": ".py",
   "mimetype": "text/x-python",
   "name": "python",
   "nbconvert_exporter": "python",
   "pygments_lexer": "ipython3",
   "version": "3.5.2"
  }
 },
 "nbformat": 4,
 "nbformat_minor": 2
}
